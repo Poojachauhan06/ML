{
 "cells": [
  {
   "cell_type": "code",
   "execution_count": 1,
   "metadata": {
    "_cell_guid": "b1076dfc-b9ad-4769-8c92-a6c4dae69d19",
    "_uuid": "8f2839f25d086af736a60e9eeb907d3b93b6e0e5"
   },
   "outputs": [
    {
     "name": "stdout",
     "output_type": "stream",
     "text": [
      "
     ]
    }
   ],
   "source": [
    "# This Python 3 environment comes with many helpful analytics libraries installed\n",
    "# It is defined by the kaggle/python Docker image: https://github.com/kaggle/docker-python\n",
    "# For example, here's several helpful packages to load\n",
    "\n",
    "import numpy as np # linear algebra\n",
    "import pandas as pd # data processing, CSV file I/O (e.g. pd.read_csv)\n",
    "\n",
    "# Input data files are available in the read-only \"../input/\" directory\n",
    "# For example, running this (by clicking run or pressing Shift+Enter) will list all files under the input directory\n",
    "\n",
    "import os\n",
    "for dirname, _, filenames in os.walk('/kaggle/input'):\n",
    "    for filename in filenames:\n",
    "        print(os.path.join(dirname, filename))\n",
    "\n",
    "# You can write up to 5GB to the current directory (/kaggle/working/) that gets preserved as output when you create a version using \"Save & Run All\" \n",
    "# You can also write temporary files to /kaggle/temp/, but they won't be saved outside of the current session"
   ]
  },
  {
   "cell_type": "code",
   "execution_count": 2,
   "metadata": {},
   "outputs": [],
   "source": [
    "import pandas as pd\n",
    "import numpy as np\n",
    "import matplotlib.pyplot as plt"
   ]
  },
  {
   "cell_type": "code",
   "execution_count": 3,
   "metadata": {},
   "outputs": [],
   "source": [
    "Sdataset = pd.read_csv('/kaggle/input/mydataseed/seeds_dataset.csv')\n",
    "Idataset = pd.read_csv('/kaggle/input/datairis/Iris.csv')"
   ]
  },
  {
   "cell_type": "code",
   "execution_count": 4,
   "metadata": {},
   "outputs": [
    {
     "data": {
      "text/html": [
       "<div>\n",
       "<style scoped>\n",
       "    .dataframe tbody tr th:only-of-type {\n",
       "        vertical-align: middle;\n",
       "    }\n",
       "\n",
       "    .dataframe tbody tr th {\n",
       "        vertical-align: top;\n",
       "    }\n",
       "\n",
       "    .dataframe thead th {\n",
       "        text-align: right;\n",
       "    }\n",
       "</style>\n",
       "<table border=\"1\" class=\"dataframe\">\n",
       "  <thead>\n",
       "    <tr style=\"text-align: right;\">\n",
       "      <th></th>\n",
       "      <th>l</th>\n",
       "      <th>m</th>\n",
       "      <th>n</th>\n",
       "      <th>o</th>\n",
       "      <th>p</th>\n",
       "    </tr>\n",
       "  </thead>\n",
       "  <tbody>\n",
       "    <tr>\n",
       "      <th>0</th>\n",
       "      <td>4.9</td>\n",
       "      <td>3.0</td>\n",
       "      <td>1.4</td>\n",
       "      <td>0.2</td>\n",
       "      <td>Iris-setosa</td>\n",
       "    </tr>\n",
       "    <tr>\n",
       "      <th>1</th>\n",
       "      <td>4.7</td>\n",
       "      <td>3.2</td>\n",
       "      <td>1.3</td>\n",
       "      <td>0.2</td>\n",
       "      <td>Iris-setosa</td>\n",
       "    </tr>\n",
       "    <tr>\n",
       "      <th>2</th>\n",
       "      <td>4.6</td>\n",
       "      <td>3.1</td>\n",
       "      <td>1.5</td>\n",
       "      <td>0.2</td>\n",
       "      <td>Iris-setosa</td>\n",
       "    </tr>\n",
       "    <tr>\n",
       "      <th>3</th>\n",
       "      <td>5.0</td>\n",
       "      <td>3.6</td>\n",
       "      <td>1.4</td>\n",
       "      <td>0.2</td>\n",
       "      <td>Iris-setosa</td>\n",
       "    </tr>\n",
       "    <tr>\n",
       "      <th>4</th>\n",
       "      <td>5.4</td>\n",
       "      <td>3.9</td>\n",
       "      <td>1.7</td>\n",
       "      <td>0.4</td>\n",
       "      <td>Iris-setosa</td>\n",
       "    </tr>\n",
       "    <tr>\n",
       "      <th>...</th>\n",
       "      <td>...</td>\n",
       "      <td>...</td>\n",
       "      <td>...</td>\n",
       "      <td>...</td>\n",
       "      <td>...</td>\n",
       "    </tr>\n",
       "    <tr>\n",
       "      <th>144</th>\n",
       "      <td>6.7</td>\n",
       "      <td>3.0</td>\n",
       "      <td>5.2</td>\n",
       "      <td>2.3</td>\n",
       "      <td>Iris-virginica</td>\n",
       "    </tr>\n",
       "    <tr>\n",
       "      <th>145</th>\n",
       "      <td>6.3</td>\n",
       "      <td>2.5</td>\n",
       "      <td>5.0</td>\n",
       "      <td>1.9</td>\n",
       "      <td>Iris-virginica</td>\n",
       "    </tr>\n",
       "    <tr>\n",
       "      <th>146</th>\n",
       "      <td>6.5</td>\n",
       "      <td>3.0</td>\n",
       "      <td>5.2</td>\n",
       "      <td>2.0</td>\n",
       "      <td>Iris-virginica</td>\n",
       "    </tr>\n",
       "    <tr>\n",
       "      <th>147</th>\n",
       "      <td>6.2</td>\n",
       "      <td>3.4</td>\n",
       "      <td>5.4</td>\n",
       "      <td>2.3</td>\n",
       "      <td>Iris-virginica</td>\n",
       "    </tr>\n",
       "    <tr>\n",
       "      <th>148</th>\n",
       "      <td>5.9</td>\n",
       "      <td>3.0</td>\n",
       "      <td>5.1</td>\n",
       "      <td>1.8</td>\n",
       "      <td>Iris-virginica</td>\n",
       "    </tr>\n",
       "  </tbody>\n",
       "</table>\n",
       "<p>149 rows × 5 columns</p>\n",
       "</div>"
      ],
      "text/plain": [
       "       l    m    n    o               p\n",
       "0    4.9  3.0  1.4  0.2     Iris-setosa\n",
       "1    4.7  3.2  1.3  0.2     Iris-setosa\n",
       "2    4.6  3.1  1.5  0.2     Iris-setosa\n",
       "3    5.0  3.6  1.4  0.2     Iris-setosa\n",
       "4    5.4  3.9  1.7  0.4     Iris-setosa\n",
       "..   ...  ...  ...  ...             ...\n",
       "144  6.7  3.0  5.2  2.3  Iris-virginica\n",
       "145  6.3  2.5  5.0  1.9  Iris-virginica\n",
       "146  6.5  3.0  5.2  2.0  Iris-virginica\n",
       "147  6.2  3.4  5.4  2.3  Iris-virginica\n",
       "148  5.9  3.0  5.1  1.8  Iris-virginica\n",
       "\n",
       "[149 rows x 5 columns]"
      ]
     },
     "execution_count": 4,
     "metadata": {},
     "output_type": "execute_result"
    }
   ],
   "source": [
    "Idataset"
   ]
  },
  {
   "cell_type": "code",
   "execution_count": 5,
   "metadata": {},
   "outputs": [
    {
     "data": {
      "text/plain": [
       "(149, 5)"
      ]
     },
     "execution_count": 5,
     "metadata": {},
     "output_type": "execute_result"
    }
   ],
   "source": [
    "Idataset.shape"
   ]
  },
  {
   "cell_type": "code",
   "execution_count": 6,
   "metadata": {},
   "outputs": [],
   "source": [
    "Idataset[4] = np.where(Idataset.iloc[:, -1]=='Iris-setosa', 0, 1)"
   ]
  },
  {
   "cell_type": "code",
   "execution_count": 7,
   "metadata": {},
   "outputs": [],
   "source": [
    " mydata = Idataset.drop('p',axis = 1)"
   ]
  },
  {
   "cell_type": "code",
   "execution_count": 8,
   "metadata": {},
   "outputs": [
    {
     "data": {
      "text/html": [
       "<div>\n",
       "<style scoped>\n",
       "    .dataframe tbody tr th:only-of-type {\n",
       "        vertical-align: middle;\n",
       "    }\n",
       "\n",
       "    .dataframe tbody tr th {\n",
       "        vertical-align: top;\n",
       "    }\n",
       "\n",
       "    .dataframe thead th {\n",
       "        text-align: right;\n",
       "    }\n",
       "</style>\n",
       "<table border=\"1\" class=\"dataframe\">\n",
       "  <thead>\n",
       "    <tr style=\"text-align: right;\">\n",
       "      <th></th>\n",
       "      <th>l</th>\n",
       "      <th>m</th>\n",
       "      <th>n</th>\n",
       "      <th>o</th>\n",
       "      <th>4</th>\n",
       "    </tr>\n",
       "  </thead>\n",
       "  <tbody>\n",
       "    <tr>\n",
       "      <th>0</th>\n",
       "      <td>4.9</td>\n",
       "      <td>3.0</td>\n",
       "      <td>1.4</td>\n",
       "      <td>0.2</td>\n",
       "      <td>0</td>\n",
       "    </tr>\n",
       "    <tr>\n",
       "      <th>1</th>\n",
       "      <td>4.7</td>\n",
       "      <td>3.2</td>\n",
       "      <td>1.3</td>\n",
       "      <td>0.2</td>\n",
       "      <td>0</td>\n",
       "    </tr>\n",
       "    <tr>\n",
       "      <th>2</th>\n",
       "      <td>4.6</td>\n",
       "      <td>3.1</td>\n",
       "      <td>1.5</td>\n",
       "      <td>0.2</td>\n",
       "      <td>0</td>\n",
       "    </tr>\n",
       "    <tr>\n",
       "      <th>3</th>\n",
       "      <td>5.0</td>\n",
       "      <td>3.6</td>\n",
       "      <td>1.4</td>\n",
       "      <td>0.2</td>\n",
       "      <td>0</td>\n",
       "    </tr>\n",
       "    <tr>\n",
       "      <th>4</th>\n",
       "      <td>5.4</td>\n",
       "      <td>3.9</td>\n",
       "      <td>1.7</td>\n",
       "      <td>0.4</td>\n",
       "      <td>0</td>\n",
       "    </tr>\n",
       "    <tr>\n",
       "      <th>...</th>\n",
       "      <td>...</td>\n",
       "      <td>...</td>\n",
       "      <td>...</td>\n",
       "      <td>...</td>\n",
       "      <td>...</td>\n",
       "    </tr>\n",
       "    <tr>\n",
       "      <th>144</th>\n",
       "      <td>6.7</td>\n",
       "      <td>3.0</td>\n",
       "      <td>5.2</td>\n",
       "      <td>2.3</td>\n",
       "      <td>1</td>\n",
       "    </tr>\n",
       "    <tr>\n",
       "      <th>145</th>\n",
       "      <td>6.3</td>\n",
       "      <td>2.5</td>\n",
       "      <td>5.0</td>\n",
       "      <td>1.9</td>\n",
       "      <td>1</td>\n",
       "    </tr>\n",
       "    <tr>\n",
       "      <th>146</th>\n",
       "      <td>6.5</td>\n",
       "      <td>3.0</td>\n",
       "      <td>5.2</td>\n",
       "      <td>2.0</td>\n",
       "      <td>1</td>\n",
       "    </tr>\n",
       "    <tr>\n",
       "      <th>147</th>\n",
       "      <td>6.2</td>\n",
       "      <td>3.4</td>\n",
       "      <td>5.4</td>\n",
       "      <td>2.3</td>\n",
       "      <td>1</td>\n",
       "    </tr>\n",
       "    <tr>\n",
       "      <th>148</th>\n",
       "      <td>5.9</td>\n",
       "      <td>3.0</td>\n",
       "      <td>5.1</td>\n",
       "      <td>1.8</td>\n",
       "      <td>1</td>\n",
       "    </tr>\n",
       "  </tbody>\n",
       "</table>\n",
       "<p>149 rows × 5 columns</p>\n",
       "</div>"
      ],
      "text/plain": [
       "       l    m    n    o  4\n",
       "0    4.9  3.0  1.4  0.2  0\n",
       "1    4.7  3.2  1.3  0.2  0\n",
       "2    4.6  3.1  1.5  0.2  0\n",
       "3    5.0  3.6  1.4  0.2  0\n",
       "4    5.4  3.9  1.7  0.4  0\n",
       "..   ...  ...  ...  ... ..\n",
       "144  6.7  3.0  5.2  2.3  1\n",
       "145  6.3  2.5  5.0  1.9  1\n",
       "146  6.5  3.0  5.2  2.0  1\n",
       "147  6.2  3.4  5.4  2.3  1\n",
       "148  5.9  3.0  5.1  1.8  1\n",
       "\n",
       "[149 rows x 5 columns]"
      ]
     },
     "execution_count": 8,
     "metadata": {},
     "output_type": "execute_result"
    }
   ],
   "source": [
    "mydata"
   ]
  },
  {
   "cell_type": "code",
   "execution_count": 9,
   "metadata": {},
   "outputs": [],
   "source": [
    "mydata.fillna(0,inplace=True)"
   ]
  },
  {
   "cell_type": "code",
   "execution_count": 10,
   "metadata": {},
   "outputs": [
    {
     "data": {
      "text/html": [
       "<div>\n",
       "<style scoped>\n",
       "    .dataframe tbody tr th:only-of-type {\n",
       "        vertical-align: middle;\n",
       "    }\n",
       "\n",
       "    .dataframe tbody tr th {\n",
       "        vertical-align: top;\n",
       "    }\n",
       "\n",
       "    .dataframe thead th {\n",
       "        text-align: right;\n",
       "    }\n",
       "</style>\n",
       "<table border=\"1\" class=\"dataframe\">\n",
       "  <thead>\n",
       "    <tr style=\"text-align: right;\">\n",
       "      <th></th>\n",
       "      <th>l</th>\n",
       "      <th>m</th>\n",
       "      <th>n</th>\n",
       "      <th>o</th>\n",
       "      <th>4</th>\n",
       "    </tr>\n",
       "  </thead>\n",
       "  <tbody>\n",
       "    <tr>\n",
       "      <th>0</th>\n",
       "      <td>4.9</td>\n",
       "      <td>3.0</td>\n",
       "      <td>1.4</td>\n",
       "      <td>0.2</td>\n",
       "      <td>0</td>\n",
       "    </tr>\n",
       "    <tr>\n",
       "      <th>1</th>\n",
       "      <td>4.7</td>\n",
       "      <td>3.2</td>\n",
       "      <td>1.3</td>\n",
       "      <td>0.2</td>\n",
       "      <td>0</td>\n",
       "    </tr>\n",
       "    <tr>\n",
       "      <th>2</th>\n",
       "      <td>4.6</td>\n",
       "      <td>3.1</td>\n",
       "      <td>1.5</td>\n",
       "      <td>0.2</td>\n",
       "      <td>0</td>\n",
       "    </tr>\n",
       "    <tr>\n",
       "      <th>3</th>\n",
       "      <td>5.0</td>\n",
       "      <td>3.6</td>\n",
       "      <td>1.4</td>\n",
       "      <td>0.2</td>\n",
       "      <td>0</td>\n",
       "    </tr>\n",
       "    <tr>\n",
       "      <th>4</th>\n",
       "      <td>5.4</td>\n",
       "      <td>3.9</td>\n",
       "      <td>1.7</td>\n",
       "      <td>0.4</td>\n",
       "      <td>0</td>\n",
       "    </tr>\n",
       "  </tbody>\n",
       "</table>\n",
       "</div>"
      ],
      "text/plain": [
       "     l    m    n    o  4\n",
       "0  4.9  3.0  1.4  0.2  0\n",
       "1  4.7  3.2  1.3  0.2  0\n",
       "2  4.6  3.1  1.5  0.2  0\n",
       "3  5.0  3.6  1.4  0.2  0\n",
       "4  5.4  3.9  1.7  0.4  0"
      ]
     },
     "execution_count": 10,
     "metadata": {},
     "output_type": "execute_result"
    }
   ],
   "source": [
    "mydata.head()"
   ]
  },
  {
   "cell_type": "code",
   "execution_count": 11,
   "metadata": {},
   "outputs": [],
   "source": [
    "x=mydata.drop(4,axis =1)\n",
    "y= mydata[4]"
   ]
  },
  {
   "cell_type": "code",
   "execution_count": 12,
   "metadata": {},
   "outputs": [
    {
     "data": {
      "text/html": [
       "<div>\n",
       "<style scoped>\n",
       "    .dataframe tbody tr th:only-of-type {\n",
       "        vertical-align: middle;\n",
       "    }\n",
       "\n",
       "    .dataframe tbody tr th {\n",
       "        vertical-align: top;\n",
       "    }\n",
       "\n",
       "    .dataframe thead th {\n",
       "        text-align: right;\n",
       "    }\n",
       "</style>\n",
       "<table border=\"1\" class=\"dataframe\">\n",
       "  <thead>\n",
       "    <tr style=\"text-align: right;\">\n",
       "      <th></th>\n",
       "      <th>l</th>\n",
       "      <th>m</th>\n",
       "      <th>n</th>\n",
       "      <th>o</th>\n",
       "    </tr>\n",
       "  </thead>\n",
       "  <tbody>\n",
       "    <tr>\n",
       "      <th>0</th>\n",
       "      <td>4.9</td>\n",
       "      <td>3.0</td>\n",
       "      <td>1.4</td>\n",
       "      <td>0.2</td>\n",
       "    </tr>\n",
       "    <tr>\n",
       "      <th>1</th>\n",
       "      <td>4.7</td>\n",
       "      <td>3.2</td>\n",
       "      <td>1.3</td>\n",
       "      <td>0.2</td>\n",
       "    </tr>\n",
       "    <tr>\n",
       "      <th>2</th>\n",
       "      <td>4.6</td>\n",
       "      <td>3.1</td>\n",
       "      <td>1.5</td>\n",
       "      <td>0.2</td>\n",
       "    </tr>\n",
       "    <tr>\n",
       "      <th>3</th>\n",
       "      <td>5.0</td>\n",
       "      <td>3.6</td>\n",
       "      <td>1.4</td>\n",
       "      <td>0.2</td>\n",
       "    </tr>\n",
       "    <tr>\n",
       "      <th>4</th>\n",
       "      <td>5.4</td>\n",
       "      <td>3.9</td>\n",
       "      <td>1.7</td>\n",
       "      <td>0.4</td>\n",
       "    </tr>\n",
       "  </tbody>\n",
       "</table>\n",
       "</div>"
      ],
      "text/plain": [
       "     l    m    n    o\n",
       "0  4.9  3.0  1.4  0.2\n",
       "1  4.7  3.2  1.3  0.2\n",
       "2  4.6  3.1  1.5  0.2\n",
       "3  5.0  3.6  1.4  0.2\n",
       "4  5.4  3.9  1.7  0.4"
      ]
     },
     "execution_count": 12,
     "metadata": {},
     "output_type": "execute_result"
    }
   ],
   "source": [
    "x.head()"
   ]
  },
  {
   "cell_type": "code",
   "execution_count": 13,
   "metadata": {},
   "outputs": [
    {
     "data": {
      "text/plain": [
       "<bound method NDFrame.head of 0      0\n",
       "1      0\n",
       "2      0\n",
       "3      0\n",
       "4      0\n",
       "      ..\n",
       "144    1\n",
       "145    1\n",
       "146    1\n",
       "147    1\n",
       "148    1\n",
       "Name: 4, Length: 149, dtype: int64>"
      ]
     },
     "execution_count": 13,
     "metadata": {},
     "output_type": "execute_result"
    }
   ],
   "source": [
    "y.head"
   ]
  },
  {
   "cell_type": "code",
   "execution_count": 14,
   "metadata": {},
   "outputs": [],
   "source": [
    "from sklearn.model_selection import train_test_split"
   ]
  },
  {
   "cell_type": "code",
   "execution_count": 15,
   "metadata": {},
   "outputs": [],
   "source": [
    "x_train,x_test,y_train,y_test =  train_test_split(x,y,test_size = 0.2,random_state = 1)"
   ]
  },
  {
   "cell_type": "code",
   "execution_count": 16,
   "metadata": {},
   "outputs": [],
   "source": [
    "from sklearn.linear_model import LogisticRegression"
   ]
  },
  {
   "cell_type": "code",
   "execution_count": 17,
   "metadata": {},
   "outputs": [],
   "source": [
    "logmodel = LogisticRegression()"
   ]
  },
  {
   "cell_type": "code",
   "execution_count": 18,
   "metadata": {},
   "outputs": [
    {
     "data": {
      "text/plain": [
       "LogisticRegression(C=1.0, class_weight=None, dual=False, fit_intercept=True,\n",
       "                   intercept_scaling=1, l1_ratio=None, max_iter=100,\n",
       "                   multi_class='auto', n_jobs=None, penalty='l2',\n",
       "                   random_state=None, solver='lbfgs', tol=0.0001, verbose=0,\n",
       "                   warm_start=False)"
      ]
     },
     "execution_count": 18,
     "metadata": {},
     "output_type": "execute_result"
    }
   ],
   "source": [
    "logmodel.fit(x_train,y_train)"
   ]
  },
  {
   "cell_type": "code",
   "execution_count": 19,
   "metadata": {},
   "outputs": [],
   "source": [
    "prediction = logmodel.predict(x_test)"
   ]
  },
  {
   "cell_type": "code",
   "execution_count": 20,
   "metadata": {},
   "outputs": [],
   "source": [
    "from sklearn.metrics import accuracy_score"
   ]
  },
  {
   "cell_type": "code",
   "execution_count": 21,
   "metadata": {},
   "outputs": [
    {
     "data": {
      "text/plain": [
       "1.0"
      ]
     },
     "execution_count": 21,
     "metadata": {},
     "output_type": "execute_result"
    }
   ],
   "source": [
    "accuracy_score(y_test,prediction)"
   ]
  },
  {
   "cell_type": "code",
   "execution_count": 22,
   "metadata": {},
   "outputs": [],
   "source": [
    "X_train = x_train.values\n",
    "X_test = x_test.values"
   ]
  },
  {
   "cell_type": "code",
   "execution_count": 23,
   "metadata": {},
   "outputs": [],
   "source": [
    "class Perceptron:\n",
    "  \n",
    "    def __init__ (self):\n",
    "        self.w = None\n",
    "        self.b = None\n",
    "    \n",
    "    def model(self, x):\n",
    "        return 1 if (np.dot(self.w, x) >= self.b) else 0\n",
    "    \n",
    "    def predict(self, X):\n",
    "        Y = []\n",
    "        for x in X:\n",
    "            result = self.model(x)\n",
    "            Y.append(result)\n",
    "        return np.array(Y)\n",
    "    \n",
    "    def fit(self, X, Y, epochs = 1, lr = 1):\n",
    "    \n",
    "        self.w = np.ones(X.shape[1])\n",
    "        self.b = 0\n",
    "\n",
    "        accuracy = {}\n",
    "        max_accuracy = 0\n",
    "\n",
    "        wt_matrix = []\n",
    "\n",
    "        for i in range(epochs):\n",
    "            for x, y in zip(X, Y):\n",
    "                y_pred = self.model(x)\n",
    "                if y == 1 and y_pred == 0:\n",
    "                    self.w = self.w + lr * x\n",
    "                    self.b = self.b - lr * 1\n",
    "                elif y == 0 and y_pred == 1:\n",
    "                    self.w = self.w - lr * x\n",
    "                    self.b = self.b + lr * 1\n",
    "\n",
    "            wt_matrix.append(self.w)    \n",
    "            accuracy[i] = accuracy_score(self.predict(X), Y)\n",
    "            if (accuracy[i] > max_accuracy):\n",
    "                max_accuracy = accuracy[i]\n",
    "                j = i\n",
    "                chkptw = self.w\n",
    "                chkptb = self.b\n",
    "\n",
    "        self.w = chkptw\n",
    "        self.b = chkptb\n",
    "\n",
    "        print(max_accuracy,j)\n",
    "        #print(accuracy.values())\n",
    "        plt.plot(list(accuracy.values()))\n",
    "        plt.xlabel(\"Epoch #\")\n",
    "        plt.ylabel(\"Accuracy\")\n",
    "        plt.ylim([0, 1])\n",
    "        plt.show()\n",
    "\n",
    "        return np.array(wt_matrix)"
   ]
  },
  {
   "cell_type": "code",
   "execution_count": 24,
   "metadata": {},
   "outputs": [],
   "source": [
    "perceptron = Perceptron()"
   ]
  },
  {
   "cell_type": "code",
   "execution_count": 25,
   "metadata": {},
   "outputs": [
    {
     "name": "stdout",
     "output_type": "stream",
     "text": [
      "1.0 0\n"
     ]
    },
    {
     "data": {
      "image/png": "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\n",
      "text/plain": [
       "<Figure size 432x288 with 1 Axes>"
      ]
     },
     "metadata": {
      "needs_background": "light"
     },
     "output_type": "display_data"
    }
   ],
   "source": [
    "wt_matrix = perceptron.fit(X_train, y_train, 10000, 0.3)"
   ]
  },
  {
   "cell_type": "code",
   "execution_count": 26,
   "metadata": {},
   "outputs": [
    {
     "name": "stdout",
     "output_type": "stream",
     "text": [
      "1.0\n"
     ]
    },
    {
     "data": {
      "text/plain": [
       "1.0"
      ]
     },
     "execution_count": 26,
     "metadata": {},
     "output_type": "execute_result"
    }
   ],
   "source": [
    "y_pred_test = perceptron.predict(X_test)\n",
    "print(accuracy_score(y_pred_test, y_test))\n",
    "accuracy_score(y_test,prediction)"
   ]
  },
  {
   "cell_type": "code",
   "execution_count": 27,
   "metadata": {},
   "outputs": [
    {
     "data": {
      "text/html": [
       "<div>\n",
       "<style scoped>\n",
       "    .dataframe tbody tr th:only-of-type {\n",
       "        vertical-align: middle;\n",
       "    }\n",
       "\n",
       "    .dataframe tbody tr th {\n",
       "        vertical-align: top;\n",
       "    }\n",
       "\n",
       "    .dataframe thead th {\n",
       "        text-align: right;\n",
       "    }\n",
       "</style>\n",
       "<table border=\"1\" class=\"dataframe\">\n",
       "  <thead>\n",
       "    <tr style=\"text-align: right;\">\n",
       "      <th></th>\n",
       "      <th>p1</th>\n",
       "      <th>p2</th>\n",
       "      <th>p3</th>\n",
       "      <th>p4</th>\n",
       "      <th>p5</th>\n",
       "      <th>p6</th>\n",
       "      <th>p7</th>\n",
       "      <th>R</th>\n",
       "    </tr>\n",
       "  </thead>\n",
       "  <tbody>\n",
       "    <tr>\n",
       "      <th>0</th>\n",
       "      <td>14.88</td>\n",
       "      <td>14.57</td>\n",
       "      <td>0.8811</td>\n",
       "      <td>5.554</td>\n",
       "      <td>3.333</td>\n",
       "      <td>1.018</td>\n",
       "      <td>4.956</td>\n",
       "      <td>1</td>\n",
       "    </tr>\n",
       "    <tr>\n",
       "      <th>1</th>\n",
       "      <td>14.29</td>\n",
       "      <td>14.09</td>\n",
       "      <td>0.9050</td>\n",
       "      <td>5.291</td>\n",
       "      <td>3.337</td>\n",
       "      <td>2.699</td>\n",
       "      <td>4.825</td>\n",
       "      <td>1</td>\n",
       "    </tr>\n",
       "    <tr>\n",
       "      <th>2</th>\n",
       "      <td>13.84</td>\n",
       "      <td>13.94</td>\n",
       "      <td>0.8955</td>\n",
       "      <td>5.324</td>\n",
       "      <td>3.379</td>\n",
       "      <td>2.259</td>\n",
       "      <td>4.805</td>\n",
       "      <td>1</td>\n",
       "    </tr>\n",
       "    <tr>\n",
       "      <th>3</th>\n",
       "      <td>16.14</td>\n",
       "      <td>14.99</td>\n",
       "      <td>0.9034</td>\n",
       "      <td>5.658</td>\n",
       "      <td>3.562</td>\n",
       "      <td>1.355</td>\n",
       "      <td>5.175</td>\n",
       "      <td>1</td>\n",
       "    </tr>\n",
       "    <tr>\n",
       "      <th>4</th>\n",
       "      <td>14.38</td>\n",
       "      <td>14.21</td>\n",
       "      <td>0.8951</td>\n",
       "      <td>5.386</td>\n",
       "      <td>3.312</td>\n",
       "      <td>2.462</td>\n",
       "      <td>4.956</td>\n",
       "      <td>1</td>\n",
       "    </tr>\n",
       "  </tbody>\n",
       "</table>\n",
       "</div>"
      ],
      "text/plain": [
       "      p1     p2      p3     p4     p5     p6     p7  R\n",
       "0  14.88  14.57  0.8811  5.554  3.333  1.018  4.956  1\n",
       "1  14.29  14.09  0.9050  5.291  3.337  2.699  4.825  1\n",
       "2  13.84  13.94  0.8955  5.324  3.379  2.259  4.805  1\n",
       "3  16.14  14.99  0.9034  5.658  3.562  1.355  5.175  1\n",
       "4  14.38  14.21  0.8951  5.386  3.312  2.462  4.956  1"
      ]
     },
     "execution_count": 27,
     "metadata": {},
     "output_type": "execute_result"
    }
   ],
   "source": [
    "Sdataset.head()"
   ]
  },
  {
   "cell_type": "code",
   "execution_count": 28,
   "metadata": {},
   "outputs": [
    {
     "data": {
      "text/plain": [
       "(59, 8)"
      ]
     },
     "execution_count": 28,
     "metadata": {},
     "output_type": "execute_result"
    }
   ],
   "source": [
    "Sdataset.shape"
   ]
  },
  {
   "cell_type": "code",
   "execution_count": 29,
   "metadata": {},
   "outputs": [],
   "source": [
    "Sdataset.fillna(0,inplace=True)"
   ]
  },
  {
   "cell_type": "code",
   "execution_count": 30,
   "metadata": {},
   "outputs": [],
   "source": [
    "x= Sdataset.drop('R',axis =1)\n",
    "y= Sdataset['R']"
   ]
  },
  {
   "cell_type": "code",
   "execution_count": 31,
   "metadata": {},
   "outputs": [],
   "source": [
    "from sklearn.model_selection import train_test_split"
   ]
  },
  {
   "cell_type": "code",
   "execution_count": 32,
   "metadata": {},
   "outputs": [],
   "source": [
    "x_train,x_test,y_train,y_test =  train_test_split(x,y,test_size = 0.2,random_state = 1)"
   ]
  },
  {
   "cell_type": "code",
   "execution_count": 33,
   "metadata": {},
   "outputs": [],
   "source": [
    "from sklearn.linear_model import LogisticRegression"
   ]
  },
  {
   "cell_type": "code",
   "execution_count": 34,
   "metadata": {},
   "outputs": [],
   "source": [
    "logmodel = LogisticRegression()"
   ]
  },
  {
   "cell_type": "code",
   "execution_count": 35,
   "metadata": {},
   "outputs": [
    {
     "data": {
      "text/plain": [
       "LogisticRegression(C=1.0, class_weight=None, dual=False, fit_intercept=True,\n",
       "                   intercept_scaling=1, l1_ratio=None, max_iter=100,\n",
       "                   multi_class='auto', n_jobs=None, penalty='l2',\n",
       "                   random_state=None, solver='lbfgs', tol=0.0001, verbose=0,\n",
       "                   warm_start=False)"
      ]
     },
     "execution_count": 35,
     "metadata": {},
     "output_type": "execute_result"
    }
   ],
   "source": [
    "logmodel.fit(x_train,y_train)"
   ]
  },
  {
   "cell_type": "code",
   "execution_count": 36,
   "metadata": {},
   "outputs": [],
   "source": [
    "prediction = logmodel.predict(x_test)"
   ]
  },
  {
   "cell_type": "code",
   "execution_count": 37,
   "metadata": {},
   "outputs": [],
   "source": [
    "from sklearn.metrics import accuracy_score"
   ]
  },
  {
   "cell_type": "code",
   "execution_count": 38,
   "metadata": {},
   "outputs": [
    {
     "data": {
      "text/plain": [
       "1.0"
      ]
     },
     "execution_count": 38,
     "metadata": {},
     "output_type": "execute_result"
    }
   ],
   "source": [
    "accuracy_score(y_test,prediction)"
   ]
  },
  {
   "cell_type": "code",
   "execution_count": 39,
   "metadata": {},
   "outputs": [],
   "source": [
    "X_train = x_train.values\n",
    "X_test = x_test.values"
   ]
  },
  {
   "cell_type": "code",
   "execution_count": 40,
   "metadata": {},
   "outputs": [],
   "source": [
    "class Perceptron:\n",
    "  \n",
    "    def __init__ (self):\n",
    "        self.w = None\n",
    "        self.b = None\n",
    "    \n",
    "    def model(self, x):\n",
    "        return 1 if (np.dot(self.w, x) >= self.b) else 0\n",
    "    \n",
    "    def predict(self, X):\n",
    "        Y = []\n",
    "        for x in X:\n",
    "            result = self.model(x)\n",
    "            Y.append(result)\n",
    "        return np.array(Y)\n",
    "    \n",
    "    def fit(self, X, Y, epochs = 1, lr = 1):\n",
    "    \n",
    "        self.w = np.ones(X.shape[1])\n",
    "        self.b = 0\n",
    "\n",
    "        accuracy = {}\n",
    "        max_accuracy = 0\n",
    "\n",
    "        wt_matrix = []\n",
    "\n",
    "        for i in range(epochs):\n",
    "            for x, y in zip(X, Y):\n",
    "                y_pred = self.model(x)\n",
    "                if y == 1 and y_pred == 0:\n",
    "                    self.w = self.w + lr * x\n",
    "                    self.b = self.b - lr * 1\n",
    "                elif y == 0 and y_pred == 1:\n",
    "                    self.w = self.w - lr * x\n",
    "                    self.b = self.b + lr * 1\n",
    "\n",
    "            wt_matrix.append(self.w)    \n",
    "            accuracy[i] = accuracy_score(self.predict(X), Y)\n",
    "            if (accuracy[i] > max_accuracy):\n",
    "                max_accuracy = accuracy[i]\n",
    "                j = i\n",
    "                chkptw = self.w\n",
    "                chkptb = self.b\n",
    "\n",
    "        self.w = chkptw\n",
    "        self.b = chkptb\n",
    "\n",
    "        print(max_accuracy,j)\n",
    "        #print(accuracy.values())\n",
    "        plt.plot(list(accuracy.values()))\n",
    "        plt.xlabel(\"Epoch #\")\n",
    "        plt.ylabel(\"Accuracy\")\n",
    "        plt.ylim([0, 1])\n",
    "        plt.show()\n",
    "\n",
    "        return np.array(wt_matrix)"
   ]
  },
  {
   "cell_type": "code",
   "execution_count": 41,
   "metadata": {},
   "outputs": [],
   "source": [
    "perceptron = Perceptron()"
   ]
  },
  {
   "cell_type": "code",
   "execution_count": 42,
   "metadata": {},
   "outputs": [
    {
     "name": "stdout",
     "output_type": "stream",
     "text": [
      "0.9787234042553191 0\n"
     ]
    },
    {
     "data": {
      "image/png": "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\n",
      "text/plain": [
       "<Figure size 432x288 with 1 Axes>"
      ]
     },
     "metadata": {
      "needs_background": "light"
     },
     "output_type": "display_data"
    }
   ],
   "source": [
    "wt_matrix = perceptron.fit(X_train, y_train, 10000, 0.3)"
   ]
  },
  {
   "cell_type": "code",
   "execution_count": 43,
   "metadata": {},
   "outputs": [
    {
     "name": "stdout",
     "output_type": "stream",
     "text": [
      "1.0\n"
     ]
    },
    {
     "data": {
      "text/plain": [
       "1.0"
      ]
     },
     "execution_count": 43,
     "metadata": {},
     "output_type": "execute_result"
    }
   ],
   "source": [
    "Y_pred_test = perceptron.predict(X_test)\n",
    "print(accuracy_score(Y_pred_test, y_test))\n",
    "accuracy_score(y_test,prediction)\n"
   ]
  },
  {
   "cell_type": "code",
   "execution_count": null,
   "metadata": {},
   "outputs": [],
   "source": []
  }
 ],
 "metadata": {
  "kernelspec": {
   "display_name": "Python 3",
   "language": "python",
   "name": "python3"
  },
  "language_info": {
   "codemirror_mode": {
    "name": "ipython",
    "version": 3
   },
   "file_extension": ".py",
   "mimetype": "text/x-python",
   "name": "python",
   "nbconvert_exporter": "python",
   "pygments_lexer": "ipython3",
   "version": "3.7.6"
  }
 },
 "nbformat": 4,
 "nbformat_minor": 4
}
